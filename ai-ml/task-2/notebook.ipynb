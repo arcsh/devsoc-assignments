{
  "cells": [
    {
      "cell_type": "markdown",
      "metadata": {
        "id": "LvkxJLK872xG"
      },
      "source": [
        "# Linear Regression from Scratch"
      ]
    },
    {
      "cell_type": "markdown",
      "metadata": {
        "id": "uJEzeBaYrp3a"
      },
      "source": [
        "This notebook implements a linear regression model from scratch to predict house prices. We will walk through data preprocessing, model formulation, training using gradient descent, and evaluation on a test set."
      ]
    },
    {
      "cell_type": "code",
      "execution_count": 1,
      "metadata": {
        "id": "ylSYM7srAaTK"
      },
      "outputs": [],
      "source": [
        "# Import the required libraries\n",
        "import pandas as pd\n",
        "import numpy as np\n",
        "import matplotlib.pyplot as plt"
      ]
    },
    {
      "cell_type": "markdown",
      "metadata": {
        "id": "1d8TzpYrAaTK"
      },
      "source": [
        "## 1. Data Preprocessing"
      ]
    },
    {
      "cell_type": "markdown",
      "metadata": {
        "id": "Ko0DUQMIAaTL"
      },
      "source": [
        "### **1.1 Exploring the Dataset**"
      ]
    },
    {
      "cell_type": "markdown",
      "metadata": {
        "id": "PiIvXaDLAaTL"
      },
      "source": [
        "Let's start by loading the training data from the provided URL into a pandas DataFrame."
      ]
    },
    {
      "cell_type": "code",
      "execution_count": 2,
      "metadata": {
        "id": "dj_ZCCgTAaTL"
      },
      "outputs": [],
      "source": [
        "df_train = pd.read_csv('https://raw.githubusercontent.com/cronan03/DevSoc_AI-ML/main/train_processed_splitted.csv')"
      ]
    },
    {
      "cell_type": "markdown",
      "metadata": {
        "id": "l5-4Ujl1AaTL"
      },
      "source": [
        "Let's see what the first 5 rows of this dataset look like."
      ]
    },
    {
      "cell_type": "code",
      "execution_count": 3,
      "metadata": {
        "id": "-ieOW_eQAaTL"
      },
      "outputs": [
        {
          "data": {
            "text/html": [
              "<div>\n",
              "<style scoped>\n",
              "    .dataframe tbody tr th:only-of-type {\n",
              "        vertical-align: middle;\n",
              "    }\n",
              "\n",
              "    .dataframe tbody tr th {\n",
              "        vertical-align: top;\n",
              "    }\n",
              "\n",
              "    .dataframe thead th {\n",
              "        text-align: right;\n",
              "    }\n",
              "</style>\n",
              "<table border=\"1\" class=\"dataframe\">\n",
              "  <thead>\n",
              "    <tr style=\"text-align: right;\">\n",
              "      <th></th>\n",
              "      <th>LotArea</th>\n",
              "      <th>TotalBsmtSF</th>\n",
              "      <th>GrLivArea</th>\n",
              "      <th>GarageArea</th>\n",
              "      <th>PoolArea</th>\n",
              "      <th>OverallCond</th>\n",
              "      <th>Utilities</th>\n",
              "      <th>SalePrice</th>\n",
              "    </tr>\n",
              "  </thead>\n",
              "  <tbody>\n",
              "    <tr>\n",
              "      <th>0</th>\n",
              "      <td>11553</td>\n",
              "      <td>1051</td>\n",
              "      <td>1159</td>\n",
              "      <td>336</td>\n",
              "      <td>0</td>\n",
              "      <td>5</td>\n",
              "      <td>AllPub</td>\n",
              "      <td>158000</td>\n",
              "    </tr>\n",
              "    <tr>\n",
              "      <th>1</th>\n",
              "      <td>8400</td>\n",
              "      <td>1052</td>\n",
              "      <td>1052</td>\n",
              "      <td>288</td>\n",
              "      <td>0</td>\n",
              "      <td>5</td>\n",
              "      <td>AllPub</td>\n",
              "      <td>138500</td>\n",
              "    </tr>\n",
              "    <tr>\n",
              "      <th>2</th>\n",
              "      <td>8960</td>\n",
              "      <td>1008</td>\n",
              "      <td>1028</td>\n",
              "      <td>360</td>\n",
              "      <td>0</td>\n",
              "      <td>6</td>\n",
              "      <td>AllPub</td>\n",
              "      <td>115000</td>\n",
              "    </tr>\n",
              "    <tr>\n",
              "      <th>3</th>\n",
              "      <td>11100</td>\n",
              "      <td>0</td>\n",
              "      <td>930</td>\n",
              "      <td>308</td>\n",
              "      <td>0</td>\n",
              "      <td>7</td>\n",
              "      <td>AllPub</td>\n",
              "      <td>84900</td>\n",
              "    </tr>\n",
              "    <tr>\n",
              "      <th>4</th>\n",
              "      <td>15593</td>\n",
              "      <td>1304</td>\n",
              "      <td>2287</td>\n",
              "      <td>667</td>\n",
              "      <td>0</td>\n",
              "      <td>4</td>\n",
              "      <td>AllPub</td>\n",
              "      <td>225000</td>\n",
              "    </tr>\n",
              "  </tbody>\n",
              "</table>\n",
              "</div>"
            ],
            "text/plain": [
              "   LotArea  TotalBsmtSF  GrLivArea  GarageArea  PoolArea  OverallCond  \\\n",
              "0    11553         1051       1159         336         0            5   \n",
              "1     8400         1052       1052         288         0            5   \n",
              "2     8960         1008       1028         360         0            6   \n",
              "3    11100            0        930         308         0            7   \n",
              "4    15593         1304       2287         667         0            4   \n",
              "\n",
              "  Utilities  SalePrice  \n",
              "0    AllPub     158000  \n",
              "1    AllPub     138500  \n",
              "2    AllPub     115000  \n",
              "3    AllPub      84900  \n",
              "4    AllPub     225000  "
            ]
          },
          "execution_count": 3,
          "metadata": {},
          "output_type": "execute_result"
        }
      ],
      "source": [
        "df_train.head()"
      ]
    },
    {
      "cell_type": "markdown",
      "metadata": {
        "id": "LNnfJbohAaTM"
      },
      "source": [
        "What are all the features present? What is the range for each of the features along with their mean?"
      ]
    },
    {
      "cell_type": "code",
      "execution_count": 4,
      "metadata": {
        "id": "i0e6ZqO6AaTM"
      },
      "outputs": [
        {
          "data": {
            "text/html": [
              "<div>\n",
              "<style scoped>\n",
              "    .dataframe tbody tr th:only-of-type {\n",
              "        vertical-align: middle;\n",
              "    }\n",
              "\n",
              "    .dataframe tbody tr th {\n",
              "        vertical-align: top;\n",
              "    }\n",
              "\n",
              "    .dataframe thead th {\n",
              "        text-align: right;\n",
              "    }\n",
              "</style>\n",
              "<table border=\"1\" class=\"dataframe\">\n",
              "  <thead>\n",
              "    <tr style=\"text-align: right;\">\n",
              "      <th></th>\n",
              "      <th>LotArea</th>\n",
              "      <th>TotalBsmtSF</th>\n",
              "      <th>GrLivArea</th>\n",
              "      <th>GarageArea</th>\n",
              "      <th>PoolArea</th>\n",
              "      <th>OverallCond</th>\n",
              "      <th>SalePrice</th>\n",
              "    </tr>\n",
              "  </thead>\n",
              "  <tbody>\n",
              "    <tr>\n",
              "      <th>count</th>\n",
              "      <td>1314.000000</td>\n",
              "      <td>1314.000000</td>\n",
              "      <td>1314.000000</td>\n",
              "      <td>1314.000000</td>\n",
              "      <td>1314.000000</td>\n",
              "      <td>1314.000000</td>\n",
              "      <td>1314.000000</td>\n",
              "    </tr>\n",
              "    <tr>\n",
              "      <th>mean</th>\n",
              "      <td>10622.104262</td>\n",
              "      <td>1058.311263</td>\n",
              "      <td>1512.900304</td>\n",
              "      <td>473.480213</td>\n",
              "      <td>2.643075</td>\n",
              "      <td>5.582192</td>\n",
              "      <td>180795.504566</td>\n",
              "    </tr>\n",
              "    <tr>\n",
              "      <th>std</th>\n",
              "      <td>10430.181058</td>\n",
              "      <td>435.717809</td>\n",
              "      <td>524.854432</td>\n",
              "      <td>213.960987</td>\n",
              "      <td>39.504255</td>\n",
              "      <td>1.112699</td>\n",
              "      <td>77511.272784</td>\n",
              "    </tr>\n",
              "    <tr>\n",
              "      <th>min</th>\n",
              "      <td>1300.000000</td>\n",
              "      <td>0.000000</td>\n",
              "      <td>334.000000</td>\n",
              "      <td>0.000000</td>\n",
              "      <td>0.000000</td>\n",
              "      <td>1.000000</td>\n",
              "      <td>34900.000000</td>\n",
              "    </tr>\n",
              "    <tr>\n",
              "      <th>25%</th>\n",
              "      <td>7588.500000</td>\n",
              "      <td>796.000000</td>\n",
              "      <td>1124.250000</td>\n",
              "      <td>336.000000</td>\n",
              "      <td>0.000000</td>\n",
              "      <td>5.000000</td>\n",
              "      <td>130000.000000</td>\n",
              "    </tr>\n",
              "    <tr>\n",
              "      <th>50%</th>\n",
              "      <td>9501.500000</td>\n",
              "      <td>992.000000</td>\n",
              "      <td>1461.500000</td>\n",
              "      <td>480.000000</td>\n",
              "      <td>0.000000</td>\n",
              "      <td>5.000000</td>\n",
              "      <td>163250.000000</td>\n",
              "    </tr>\n",
              "    <tr>\n",
              "      <th>75%</th>\n",
              "      <td>11613.500000</td>\n",
              "      <td>1295.250000</td>\n",
              "      <td>1775.750000</td>\n",
              "      <td>576.000000</td>\n",
              "      <td>0.000000</td>\n",
              "      <td>6.000000</td>\n",
              "      <td>215000.000000</td>\n",
              "    </tr>\n",
              "    <tr>\n",
              "      <th>max</th>\n",
              "      <td>215245.000000</td>\n",
              "      <td>6110.000000</td>\n",
              "      <td>5642.000000</td>\n",
              "      <td>1418.000000</td>\n",
              "      <td>738.000000</td>\n",
              "      <td>9.000000</td>\n",
              "      <td>755000.000000</td>\n",
              "    </tr>\n",
              "  </tbody>\n",
              "</table>\n",
              "</div>"
            ],
            "text/plain": [
              "             LotArea  TotalBsmtSF    GrLivArea   GarageArea     PoolArea  \\\n",
              "count    1314.000000  1314.000000  1314.000000  1314.000000  1314.000000   \n",
              "mean    10622.104262  1058.311263  1512.900304   473.480213     2.643075   \n",
              "std     10430.181058   435.717809   524.854432   213.960987    39.504255   \n",
              "min      1300.000000     0.000000   334.000000     0.000000     0.000000   \n",
              "25%      7588.500000   796.000000  1124.250000   336.000000     0.000000   \n",
              "50%      9501.500000   992.000000  1461.500000   480.000000     0.000000   \n",
              "75%     11613.500000  1295.250000  1775.750000   576.000000     0.000000   \n",
              "max    215245.000000  6110.000000  5642.000000  1418.000000   738.000000   \n",
              "\n",
              "       OverallCond      SalePrice  \n",
              "count  1314.000000    1314.000000  \n",
              "mean      5.582192  180795.504566  \n",
              "std       1.112699   77511.272784  \n",
              "min       1.000000   34900.000000  \n",
              "25%       5.000000  130000.000000  \n",
              "50%       5.000000  163250.000000  \n",
              "75%       6.000000  215000.000000  \n",
              "max       9.000000  755000.000000  "
            ]
          },
          "execution_count": 4,
          "metadata": {},
          "output_type": "execute_result"
        }
      ],
      "source": [
        "# The .describe() method provides a statistical summary for all numerical columns.\n",
        "df_train.describe()"
      ]
    },
    {
      "cell_type": "markdown",
      "metadata": {
        "id": "8Hjdd5Y5AaTM"
      },
      "source": [
        "### **1.2 Feature Scaling and One-Hot Encoding**"
      ]
    },
    {
      "cell_type": "markdown",
      "metadata": {
        "id": "J3ls8u3hAaTM"
      },
      "source": [
        "You may have noticed that some features (like `Utilities`) are not continuous values. These are **categorical features**. We must convert them to a numerical format using **one-hot encoding**, which creates a new binary (0 or 1) column for each category.\n",
        "\n",
        "Additionally, the numerical features are on different scales (e.g., `LotArea` is in the thousands, while `OverallQual` is 1-10). This can cause features with larger scales to dominate the learning process. We will **normalize** them to a common range of $[0, 1]$ using Min-Max scaling. "
      ]
    },
    {
      "cell_type": "markdown",
      "metadata": {
        "id": "yeoczqQIAaTM"
      },
      "source": [
        "> **NOTE**: When you are doing feature scaling, you must store the `min` and `max` values from the **training set**. These same values must be used to normalize the test set. Why? Because the model should be evaluated on data it has never seen. Using information (like the min/max) from the test set to prepare the training data would be a form of *data leakage*, leading to an overly optimistic evaluation of the model's performance on new, unseen data."
      ]
    },
    {
      "cell_type": "code",
      "execution_count": 5,
      "metadata": {
        "id": "W17LZP2qAaTN"
      },
      "outputs": [],
      "source": [
        "# Separate the target variable (what we want to predict)\n",
        "target = 'SalePrice'\n",
        "y = df_train[target]\n",
        "\n",
        "# Separate the features\n",
        "features = df_train.drop(target, axis=1)\n",
        "\n",
        "# Identify numerical and categorical columns\n",
        "# We'll treat columns with 'object' dtype as categorical\n",
        "numerical_cols = features.select_dtypes(include=np.number).columns.tolist()\n",
        "categorical_cols = features.select_dtypes(include=['object']).columns.tolist()\n",
        "\n",
        "# Perform one-hot encoding on categorical features\n",
        "features_encoded = pd.get_dummies(features, columns=categorical_cols, dummy_na=False)\n",
        "\n",
        "# Store the columns after encoding to align the test set later\n",
        "encoded_cols = features_encoded.columns"
      ]
    },
    {
      "cell_type": "code",
      "execution_count": 6,
      "metadata": {
        "id": "gG7rV9TCAaTN"
      },
      "outputs": [
        {
          "name": "stdout",
          "output_type": "stream",
          "text": [
            "Features have been one-hot encoded and scaled.\n"
          ]
        },
        {
          "data": {
            "text/html": [
              "<div>\n",
              "<style scoped>\n",
              "    .dataframe tbody tr th:only-of-type {\n",
              "        vertical-align: middle;\n",
              "    }\n",
              "\n",
              "    .dataframe tbody tr th {\n",
              "        vertical-align: top;\n",
              "    }\n",
              "\n",
              "    .dataframe thead th {\n",
              "        text-align: right;\n",
              "    }\n",
              "</style>\n",
              "<table border=\"1\" class=\"dataframe\">\n",
              "  <thead>\n",
              "    <tr style=\"text-align: right;\">\n",
              "      <th></th>\n",
              "      <th>LotArea</th>\n",
              "      <th>TotalBsmtSF</th>\n",
              "      <th>GrLivArea</th>\n",
              "      <th>GarageArea</th>\n",
              "      <th>PoolArea</th>\n",
              "      <th>OverallCond</th>\n",
              "      <th>Utilities_AllPub</th>\n",
              "      <th>Utilities_NoSeWa</th>\n",
              "    </tr>\n",
              "  </thead>\n",
              "  <tbody>\n",
              "    <tr>\n",
              "      <th>0</th>\n",
              "      <td>0.047924</td>\n",
              "      <td>0.172013</td>\n",
              "      <td>0.155426</td>\n",
              "      <td>0.236953</td>\n",
              "      <td>0.0</td>\n",
              "      <td>0.500</td>\n",
              "      <td>True</td>\n",
              "      <td>False</td>\n",
              "    </tr>\n",
              "    <tr>\n",
              "      <th>1</th>\n",
              "      <td>0.033186</td>\n",
              "      <td>0.172177</td>\n",
              "      <td>0.135268</td>\n",
              "      <td>0.203103</td>\n",
              "      <td>0.0</td>\n",
              "      <td>0.500</td>\n",
              "      <td>True</td>\n",
              "      <td>False</td>\n",
              "    </tr>\n",
              "    <tr>\n",
              "      <th>2</th>\n",
              "      <td>0.035804</td>\n",
              "      <td>0.164975</td>\n",
              "      <td>0.130746</td>\n",
              "      <td>0.253879</td>\n",
              "      <td>0.0</td>\n",
              "      <td>0.625</td>\n",
              "      <td>True</td>\n",
              "      <td>False</td>\n",
              "    </tr>\n",
              "    <tr>\n",
              "      <th>3</th>\n",
              "      <td>0.045806</td>\n",
              "      <td>0.000000</td>\n",
              "      <td>0.112283</td>\n",
              "      <td>0.217207</td>\n",
              "      <td>0.0</td>\n",
              "      <td>0.750</td>\n",
              "      <td>True</td>\n",
              "      <td>False</td>\n",
              "    </tr>\n",
              "    <tr>\n",
              "      <th>4</th>\n",
              "      <td>0.066807</td>\n",
              "      <td>0.213421</td>\n",
              "      <td>0.367935</td>\n",
              "      <td>0.470381</td>\n",
              "      <td>0.0</td>\n",
              "      <td>0.375</td>\n",
              "      <td>True</td>\n",
              "      <td>False</td>\n",
              "    </tr>\n",
              "  </tbody>\n",
              "</table>\n",
              "</div>"
            ],
            "text/plain": [
              "    LotArea  TotalBsmtSF  GrLivArea  GarageArea  PoolArea  OverallCond  \\\n",
              "0  0.047924     0.172013   0.155426    0.236953       0.0        0.500   \n",
              "1  0.033186     0.172177   0.135268    0.203103       0.0        0.500   \n",
              "2  0.035804     0.164975   0.130746    0.253879       0.0        0.625   \n",
              "3  0.045806     0.000000   0.112283    0.217207       0.0        0.750   \n",
              "4  0.066807     0.213421   0.367935    0.470381       0.0        0.375   \n",
              "\n",
              "   Utilities_AllPub  Utilities_NoSeWa  \n",
              "0              True             False  \n",
              "1              True             False  \n",
              "2              True             False  \n",
              "3              True             False  \n",
              "4              True             False  "
            ]
          },
          "execution_count": 6,
          "metadata": {},
          "output_type": "execute_result"
        }
      ],
      "source": [
        "# Perform feature scaling on numerical columns\n",
        "scaler_min = features_encoded[numerical_cols].min()\n",
        "scaler_max = features_encoded[numerical_cols].max()\n",
        "\n",
        "features_encoded[numerical_cols] = (features_encoded[numerical_cols] - scaler_min) / (scaler_max - scaler_min)\n",
        "\n",
        "# Also scale the target variable, remembering its min/max for later\n",
        "y_min = y.min()\n",
        "y_max = y.max()\n",
        "y_scaled = (y - y_min) / (y_max - y_min)\n",
        "\n",
        "# Handle any potential NaN values that result from division by zero (if a column is constant)\n",
        "features_encoded.fillna(0, inplace=True)\n",
        "\n",
        "print(\"Features have been one-hot encoded and scaled.\")\n",
        "features_encoded.head()"
      ]
    },
    {
      "cell_type": "markdown",
      "metadata": {
        "id": "xcZxb-V4AaTN"
      },
      "source": [
        "### **1.3 Conversion to NumPy**"
      ]
    },
    {
      "cell_type": "markdown",
      "metadata": {
        "id": "6-_3l_1iAaTN"
      },
      "source": [
        "Now that we have preprocessed the data, we will convert it to NumPy arrays, which are optimized for numerical computations. We will create two arrays:\n",
        "\n",
        "- **X**: The feature matrix of shape $(N, D)$, where $N$ is the number of data points and $D$ is the number of features.\n",
        "- **Y**: The target vector of shape $(N, 1)$."
      ]
    },
    {
      "cell_type": "code",
      "execution_count": 7,
      "metadata": {
        "id": "XJk8M5QmAaTN"
      },
      "outputs": [
        {
          "name": "stdout",
          "output_type": "stream",
          "text": [
            "Shape of feature matrix X: (1314, 9)\n",
            "Shape of target vector Y: (1314, 1)\n"
          ]
        }
      ],
      "source": [
        "# Convert the feature DataFrame and target Series to NumPy arrays\n",
        "X_train = features_encoded.to_numpy()\n",
        "y_train = y_scaled.to_numpy().reshape(-1, 1)\n",
        "\n",
        "# Add a bias term (a column of ones) to the feature matrix.\n",
        "# This allows us to treat the bias as a weight, simplifying calculations.\n",
        "# The model y = w1*x1 + ... + b becomes y = w1*x1 + ... + w0*1\n",
        "X_train = np.hstack([np.ones((X_train.shape[0], 1)), X_train])\n",
        "\n",
        "print(f\"Shape of feature matrix X: {X_train.shape}\")\n",
        "print(f\"Shape of target vector Y: {y_train.shape}\")"
      ]
    },
    {
      "cell_type": "markdown",
      "metadata": {
        "id": "J7YT1X-3AaTN"
      },
      "source": [
        "## 2. Linear Regression Formulation"
      ]
    },
    {
      "cell_type": "markdown",
      "metadata": {
        "id": "upgXFnXgAaTN"
      },
      "source": [
        "A linear regression model can be expressed as a single matrix equation:\n",
        "$$ Y_{pred} = XW $$\n",
        "Where:\n",
        "- $Y_{pred}$ is the $(N, 1)$ vector of predictions.\n",
        "- $X$ is the $(N, D+1)$ feature matrix (including the bias term).\n",
        "- $W$ is the $(D+1, 1)$ weight vector (including the bias weight).\n",
        "\n",
        "Let's answer the questions from the original notebook:\n",
        "- **How many parameters will we have to learn?** We will learn $D+1$ parameters, where $D$ is the number of features after one-hot encoding. This corresponds to one weight for each feature plus one bias term. In our case, this is `X_train.shape[1]`, which is **241**.\n",
        "- **Form a linear equation for our dataset:** The equation is $Y_{pred} = XW$, as shown above.\n",
        "- **Implement the linear equation:** We will now initialize the weight vector $W$ with random values and compute our initial (and likely very poor) predictions."
      ]
    },
    {
      "cell_type": "code",
      "execution_count": 8,
      "metadata": {
        "id": "IvB5DGT7AaTO"
      },
      "outputs": [
        {
          "name": "stdout",
          "output_type": "stream",
          "text": [
            "Shape of weight vector W: (9, 1)\n",
            "Initial predictions (first 5):\n",
            "[[2.3397747257929513]\n",
            " [2.319142979411381]\n",
            " [2.4927428142227677]\n",
            " [2.562376194220425]\n",
            " [2.4355817976264755]]\n"
          ]
        }
      ],
      "source": [
        "# Get the number of data points (N) and features (D+1)\n",
        "N, D_plus_1 = X_train.shape\n",
        "\n",
        "# Initialize the weight vector W with random values from a standard normal distribution\n",
        "# The shape should be (D+1, 1) to enable matrix multiplication with X\n",
        "np.random.seed(42) # for reproducibility\n",
        "W = np.random.randn(D_plus_1, 1)\n",
        "\n",
        "# Make initial predictions\n",
        "y_pred_initial = X_train @ W\n",
        "\n",
        "print(f\"Shape of weight vector W: {W.shape}\")\n",
        "print(\"Initial predictions (first 5):\")\n",
        "print(y_pred_initial[:5])"
      ]
    },
    {
      "cell_type": "markdown",
      "metadata": {
        "id": "_ldc0Ap_AaTO"
      },
      "source": [
        "How well does our model perform? Let's compare our initial predictions with the actual values."
      ]
    },
    {
      "cell_type": "code",
      "execution_count": 9,
      "metadata": {
        "id": "TnnX7hG5AaTO"
      },
      "outputs": [
        {
          "name": "stdout",
          "output_type": "stream",
          "text": [
            "          Prediction vs. Actual (Scaled)\n",
            "---------------------------------------------------\n",
            "Sample 1: Predicted=2.3398, Actual=0.1709\n",
            "Sample 2: Predicted=2.3191, Actual=0.1439\n",
            "Sample 3: Predicted=2.4927, Actual=0.1112\n",
            "Sample 4: Predicted=2.5624, Actual=0.0694\n",
            "Sample 5: Predicted=2.4356, Actual=0.2640\n"
          ]
        }
      ],
      "source": [
        "print(\"          Prediction vs. Actual (Scaled)\")\n",
        "print(\"---------------------------------------------------\")\n",
        "for i in range(5):\n",
        "    print(f\"Sample {i+1}: Predicted={y_pred_initial[i][0]:.4f}, Actual={y_train[i][0]:.4f}\")\n",
        "\n",
        "# As expected, the random predictions are nowhere near the actual values."
      ]
    },
    {
      "cell_type": "markdown",
      "metadata": {
        "id": "MryM_jtQAaTO"
      },
      "source": [
        "### **2.1 Learning Weights using Gradient Descent**"
      ]
    },
    {
      "cell_type": "markdown",
      "metadata": {
        "id": "5EKd0mhkAaTO"
      },
      "source": [
        "To improve our model, we use an optimization algorithm called **Gradient Descent**. The process is:\n",
        "1.  Define a **Loss Function** ($\\mathscr{L}$) that measures how bad our predictions are.\n",
        "2.  Find the **gradients** of the loss with respect to our weights ($ \\nabla_W \\mathscr{L} $). The gradient tells us the direction of the steepest increase in the loss.\n",
        "3.  **Update the weights** by taking a small step in the *opposite* direction of the gradient: $W = W - \\alpha\\nabla_W \\mathscr{L}$, where $\\alpha$ is the learning rate."
      ]
    },
    {
      "cell_type": "markdown",
      "metadata": {
        "id": "uUfs8wh3AaTO"
      },
      "source": [
        "We will use the **Mean Squared Error (MSE)** loss, which is standard for regression tasks. It assumes that the errors between predicted and true values are normally distributed.\n",
        "$$ \\mathscr{L} = \\frac{1}{N} \\sum_{i=1}^{N} (y_{pred_i} - y_{true_i})^2 $$"
      ]
    },
    {
      "cell_type": "code",
      "execution_count": 10,
      "metadata": {
        "id": "b4G28aKRAaTO"
      },
      "outputs": [],
      "source": [
        "def mse_loss_fn(y_true, y_pred):\n",
        "    \"\"\"Calculates the Mean Squared Error loss.\"\"\"\n",
        "    return np.mean((y_pred - y_true) ** 2)"
      ]
    },
    {
      "cell_type": "markdown",
      "metadata": {
        "id": "eUnb9WpfAaTP"
      },
      "source": [
        "Next, we calculate the gradients. The derivative of the MSE loss with respect to the entire weight vector $W$ can be calculated efficiently using matrix operations:\n",
        "$$ \\nabla_W \\mathscr{L} = \\frac{2}{N} X^T (XW - Y_{true}) $$"
      ]
    },
    {
      "cell_type": "code",
      "execution_count": 11,
      "metadata": {
        "id": "BDYpZjjMAaTP"
      },
      "outputs": [],
      "source": [
        "def get_gradients(y_true, y_pred, W, X):\n",
        "    \"\"\"\n",
        "    Calculates the gradients for the MSE loss function with respect to the weights.\n",
        "    Since the bias is included in W and X, we only need to calculate one gradient vector.\n",
        "    \"\"\"\n",
        "    N = len(y_true)\n",
        "    error = y_pred - y_true\n",
        "    dW = (2/N) * X.T @ error\n",
        "    return dW"
      ]
    },
    {
      "cell_type": "markdown",
      "metadata": {
        "id": "hfbjlNBXAaTP"
      },
      "source": [
        "Finally, we implement the weight update rule."
      ]
    },
    {
      "cell_type": "code",
      "execution_count": 12,
      "metadata": {
        "id": "9Xstl9DpAaTP"
      },
      "outputs": [],
      "source": [
        "def update(weights, gradients_weights, lr):\n",
        "    \"\"\"\n",
        "    Updates the weights using the gradients and the learning rate.\n",
        "    \"\"\"\n",
        "    weights_new = weights - lr * gradients_weights\n",
        "    return weights_new"
      ]
    },
    {
      "cell_type": "markdown",
      "metadata": {
        "id": "wZqXDTjFAaTP"
      },
      "source": [
        "### **2.2 The Training Loop**\n",
        "\n",
        "Now we combine these functions into a loop to train the model. We'll iterate multiple times (epochs), gradually improving the weights and reducing the loss."
      ]
    },
    {
      "cell_type": "code",
      "execution_count": 13,
      "metadata": {
        "id": "a3BVX4nlAaTP"
      },
      "outputs": [
        {
          "name": "stdout",
          "output_type": "stream",
          "text": [
            "Epoch 100/1500, Loss: 0.051781\n",
            "Epoch 200/1500, Loss: 0.026920\n",
            "Epoch 300/1500, Loss: 0.017269\n",
            "Epoch 400/1500, Loss: 0.013052\n",
            "Epoch 500/1500, Loss: 0.010915\n",
            "Epoch 600/1500, Loss: 0.009653\n",
            "Epoch 700/1500, Loss: 0.008805\n",
            "Epoch 800/1500, Loss: 0.008177\n",
            "Epoch 900/1500, Loss: 0.007680\n",
            "Epoch 1000/1500, Loss: 0.007269\n",
            "Epoch 1100/1500, Loss: 0.006920\n",
            "Epoch 1200/1500, Loss: 0.006618\n",
            "Epoch 1300/1500, Loss: 0.006354\n",
            "Epoch 1400/1500, Loss: 0.006120\n",
            "Epoch 1500/1500, Loss: 0.005912\n"
          ]
        }
      ],
      "source": [
        "NUM_EPOCHS = 1500\n",
        "LEARNING_RATE = 0.1\n",
        "\n",
        "# Re-initialize weights to start training from scratch\n",
        "W = np.random.randn(D_plus_1, 1)\n",
        "\n",
        "losses = []\n",
        "\n",
        "for epoch in range(NUM_EPOCHS):\n",
        "    # 1. Make predictions\n",
        "    y_pred = X_train @ W\n",
        "    \n",
        "    # 2. Calculate loss\n",
        "    loss = mse_loss_fn(y_train, y_pred)\n",
        "    losses.append(loss)\n",
        "    \n",
        "    # 3. Calculate gradients\n",
        "    dW = get_gradients(y_train, y_pred, W, X_train)\n",
        "    \n",
        "    # 4. Update weights\n",
        "    W = update(W, dW, LEARNING_RATE)\n",
        "    \n",
        "    # Print progress\n",
        "    if (epoch + 1) % 100 == 0:\n",
        "        print(f\"Epoch {epoch+1}/{NUM_EPOCHS}, Loss: {loss:.6f}\")"
      ]
    },
    {
      "cell_type": "markdown",
      "metadata": {
        "id": "uYgND-OLAaTQ"
      },
      "source": [
        "Now, let's use matplotlib to plot the loss graph. A decreasing curve indicates that the model is learning."
      ]
    },
    {
      "cell_type": "code",
      "execution_count": 14,
      "metadata": {
        "id": "RxFqG5GSAaTQ"
      },
      "outputs": [
        {
          "data": {
            "image/png": "[encoded data removed]",
            "text/plain": [
              "<Figure size 1000x600 with 1 Axes>"
            ]
          },
          "metadata": {},
          "output_type": "display_data"
        }
      ],
      "source": [
        "plt.figure(figsize=(10, 6))\n",
        "plt.plot(losses)\n",
        "plt.title('Training Loss Over Epochs')\n",
        "plt.xlabel('Epochs')\n",
        "plt.ylabel('MSE Loss')\n",
        "plt.grid(True)\n",
        "plt.show()"
      ]
    },
    {
      "cell_type": "markdown",
      "metadata": {
        "id": "kaZdAzbvAaTQ"
      },
      "source": [
        "## 3. Testing with Test Data"
      ]
    },
    {
      "cell_type": "markdown",
      "metadata": {
        "id": "vuSbgtM6AaTQ"
      },
      "source": [
        "Now we evaluate our trained model on the test set. We must apply the **exact same** preprocessing steps, using the parameters (like `min`/`max` values and column order) derived from the training set."
      ]
    },
    {
      "cell_type": "code",
      "execution_count": 15,
      "metadata": {
        "id": "3iuQ4ulhAaTQ"
      },
      "outputs": [
        {
          "name": "stdout",
          "output_type": "stream",
          "text": [
            "Test feature matrix shape: (146, 9)\n"
          ]
        }
      ],
      "source": [
        "# Load the test data\n",
        "df_test = pd.read_csv('https://raw.githubusercontent.com/cronan03/DevSoc_AI-ML/main/test_processed_splitted.csv')\n",
        "\n",
        "# Separate target and features\n",
        "y_test_orig = df_test[target]\n",
        "features_test = df_test.drop(target, axis=1)\n",
        "\n",
        "# Step 1: One-hot encode categorical features\n",
        "features_test_encoded = pd.get_dummies(features_test, columns=categorical_cols, dummy_na=False)\n",
        "\n",
        "# Step 2: Align columns with the training set\n",
        "# This adds missing columns (if any) and removes extra columns (if any)\n",
        "features_test_aligned = features_test_encoded.reindex(columns=encoded_cols, fill_value=0)\n",
        "\n",
        "# Step 3: Scale numerical features using the *training set's* min/max values\n",
        "features_test_aligned[numerical_cols] = (features_test_aligned[numerical_cols] - scaler_min) / (scaler_max - scaler_min)\n",
        "features_test_aligned.fillna(0, inplace=True)\n",
        "\n",
        "# Step 4: Scale the test target variable\n",
        "y_test_scaled = (y_test_orig - y_min) / (y_max - y_min)\n",
        "\n",
        "# Step 5: Convert to NumPy and add bias term\n",
        "X_test = features_test_aligned.to_numpy()\n",
        "X_test = np.hstack([np.ones((X_test.shape[0], 1)), X_test])\n",
        "y_test = y_test_scaled.to_numpy().reshape(-1, 1)\n",
        "\n",
        "print(f\"Test feature matrix shape: {X_test.shape}\")"
      ]
    },
    {
      "cell_type": "code",
      "execution_count": 16,
      "metadata": {
        "id": "xvF1EJfZAaTQ"
      },
      "outputs": [],
      "source": [
        "# Make predictions on the test set using our final trained weights W\n",
        "y_pred_test_scaled = X_test @ W\n",
        "\n",
        "# Calculate the MSE loss on the scaled test data\n",
        "loss_test = mse_loss_fn(y_test, y_pred_test_scaled)\n",
        "\n",
        "# To make the results interpretable, un-scale the predictions and true values\n",
        "# back to their original dollar amounts.\n",
        "y_pred_test_unscaled = y_pred_test_scaled * (y_max - y_min) + y_min\n",
        "y_test_unscaled = y_test * (y_max - y_min) + y_min"
      ]
    },
    {
      "cell_type": "markdown",
      "metadata": {
        "id": "s8dfg-asd98f"
      },
      "source": [
        "### **3.1 Final Evaluation**\n",
        "\n",
        "Let's evaluate the final model and answer the questions.\n",
        "\n",
        "**- Are the predictions good?**\n",
        "We can check by comparing a random sample of predicted vs. actual prices and by looking at the test loss. The predictions should be reasonably close to the actual values.\n",
        "\n",
        "**- What is the MSE loss for the test set?**\n",
        "The calculated `loss_test` value gives us a quantitative measure of the model's performance on unseen data.\n",
        "\n",
        "**- Is the MSE loss for testing greater or lower than training?**\n",
        "Typically, the test loss is slightly **higher** than the final training loss. \n",
        "\n",
        "**- Why is this the case?**\n",
        "This is expected because the model was optimized specifically for the training data. Its performance will naturally be slightly worse on new, unseen data (the test set). A significantly higher test loss could indicate **overfitting**, where the model has learned the noise in the training data rather than the underlying patterns."
      ]
    },
    {
      "cell_type": "code",
      "execution_count": 17,
      "metadata": {
        "id": "Z-TbJp0ntTip"
      },
      "outputs": [
        {
          "name": "stdout",
          "output_type": "stream",
          "text": [
            "         Prediction vs. Actual (Unscaled Prices)\n",
            "----------------------------------------------------------\n",
            "Sample 9: Predicted=$198279, Actual=$191000\n",
            "Sample 125: Predicted=$115119, Actual=$116900\n",
            "Sample 15: Predicted=$186691, Actual=$163000\n",
            "Sample 64: Predicted=$105931, Actual=$139000\n",
            "Sample 113: Predicted=$215531, Actual=$124900\n",
            "\n",
            "----------------------------------------------------------\n",
            "Final Training Loss (scaled): 0.005912\n",
            "Final Test Loss (scaled):     0.009776\n"
          ]
        }
      ],
      "source": [
        "# Display a random sample of 5 predictions vs actuals\n",
        "np.random.seed(10)\n",
        "sample_indices = np.random.randint(0, X_test.shape[0], 5)\n",
        "\n",
        "print(\"         Prediction vs. Actual (Unscaled Prices)\")\n",
        "print(\"----------------------------------------------------------\")\n",
        "\n",
        "for i in sample_indices:\n",
        "    pred = int(y_pred_test_unscaled[i][0])\n",
        "    actual = int(y_test_unscaled[i][0])\n",
        "    print(f\"Sample {i}: Predicted=${pred}, Actual=${actual}\")\n",
        "\n",
        "print(\"\\n----------------------------------------------------------\")\n",
        "print(f\"Final Training Loss (scaled): {losses[-1]:.6f}\")\n",
        "print(f\"Final Test Loss (scaled):     {loss_test:.6f}\")"
      ]
    },
    {
      "cell_type": "code",
      "execution_count": null,
      "metadata": {},
      "outputs": [],
      "source": []
    }
  ],
  "metadata": {
    "colab": {
      "provenance": []
    },
    "kernelspec": {
      "display_name": "Python 3",
      "language": "python",
      "name": "python3"
    },
    "language_info": {
      "codemirror_mode": {
        "name": "ipython",
        "version": 3
      },
      "file_extension": ".py",
      "mimetype": "text/x-python",
      "name": "python",
      "nbconvert_exporter": "python",
      "pygments_lexer": "ipython3",
      "version": "3.12.0"
    }
  },
  "nbformat": 4,
  "nbformat_minor": 0
}
